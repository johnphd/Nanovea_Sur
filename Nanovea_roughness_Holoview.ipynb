{
 "cells": [
  {
   "cell_type": "code",
   "execution_count": null,
   "metadata": {},
   "outputs": [],
   "source": [
    "#   Uncertain what is needed here.   Code was written with AI assistance, and I have eliminated packages that were unused.\n",
    "import pandas as pd\n",
    "import xarray as xr\n",
    "import holoviews as hv\n",
    "import os\n",
    "import ipywidgets as ipw\n",
    "import panel as pn\n",
    "import panel.widgets as pnw\n",
    "from holoviews import opts\n",
    "from holoviews.operation.datashader import datashade\n",
    "hv.extension('bokeh')\n",
    "\n",
    "import matplotlib.pyplot as plt         \n",
    "from matplotlib.colors import Normalize\n",
    "from matplotlib.cm import ScalarMappable\n",
    "import cv2\n",
    "\n"
   ]
  },
  {
   "cell_type": "markdown",
   "metadata": {},
   "source": [
    "### check sample photograph (optional)\n",
    "you can skip this step"
   ]
  },
  {
   "cell_type": "code",
   "execution_count": null,
   "metadata": {},
   "outputs": [],
   "source": [
    "from IPython.display import Image, display\n",
    "\n",
    "def display_image_with_grid_and_scale(image_path, grid_size=10, scale_length_cm=2, scale_bar_position_cm=(0, 0), figsize_multiplier=0.015):\n",
    "    # Load the image\n",
    "    image = cv2.imread(image_path)\n",
    "\n",
    "    # Convert image to RGB (OpenCV uses BGR by default)\n",
    "    image_rgb = cv2.cvtColor(image, cv2.COLOR_BGR2RGB)\n",
    "\n",
    "    # Get image dimensions\n",
    "    height, width, _ = image_rgb.shape\n",
    "\n",
    "    # Create a grid overlay\n",
    "    for x in range(0, width, grid_size):\n",
    "        cv2.line(image_rgb, (x, 0), (x, height), color=(255, 0, 0), thickness=2)\n",
    "\n",
    "    for y in range(0, height, grid_size):\n",
    "        cv2.line(image_rgb, (0, y), (width, y), color=(255, 0, 0), thickness=2)\n",
    "\n",
    "    # Calculate proportional figsize\n",
    "    figsize = (width * figsize_multiplier, height * figsize_multiplier)\n",
    "\n",
    "    # Display the image with grid and scale bar\n",
    "    plt.figure(figsize=figsize)\n",
    "    plt.imshow(image_rgb)\n",
    "    # plt.axis('on')  # Turn off axis labels\n",
    "    plt.xticks(fontsize=35)                                                     # Set font size for X and Y axis labels\n",
    "    plt.yticks(fontsize=35)\n",
    "    # plt.yticks(fontsize=40)\n",
    "\n",
    "    plt.show()\n",
    "\n",
    "# Example: Display photo of sample for reference (Optional)\n",
    "\n",
    "image_path = r\"C:\\path\\file.jpg\"\n",
    "display_image_with_grid_and_scale(image_path, \n",
    "                                  grid_size=205,                                # grid size is self explanatory\n",
    "\n",
    ")\n",
    "\n"
   ]
  },
  {
   "cell_type": "markdown",
   "metadata": {},
   "source": [
    "### load X, Y, Z data"
   ]
  },
  {
   "cell_type": "code",
   "execution_count": 3,
   "metadata": {},
   "outputs": [],
   "source": [
    "# Step 1: Load the Data\n",
    "\n",
    "file_path = r'C:\\scripting\\Profilometer\\Lot 710A(10)\\710A(10)bottom-1_Height  - Thresholded (302.8 µm ; 474.9 µm).txt'  #This is your data file you want to plot.  It should be 3 columns, X, Y , Z\n",
    "\n",
    "df = pd.read_csv(file_path, sep='\\t', names=['x', 'y', 'z'], dtype={'x': float, 'y': float, 'z': 'str'})\n",
    "df['z'] = pd.to_numeric(df['z'], errors='coerce')\n",
    "df = df.dropna()                                    # Option 1 - Drop rows with NaN values or empty sets\n",
    "\n",
    "# Extract the file name from the path and take the first 50 characters\n",
    "file_name = os.path.basename(file_path)\n",
    "title = file_name[:50]\n",
    "\n",
    "# Convert the dataframe to an Xarray Dataset\n",
    "ds = xr.Dataset.from_dataframe(df.dropna().set_index(['x', 'y']))"
   ]
  },
  {
   "cell_type": "markdown",
   "metadata": {},
   "source": [
    "### Generate heat map, make adjustments to Z"
   ]
  },
  {
   "cell_type": "code",
   "execution_count": null,
   "metadata": {},
   "outputs": [],
   "source": [
    "# Set the desired z-value limits (color limits)\n",
    "z_min = -30  # Adjust this value as needed\n",
    "z_max = 120   # Adjust this value as needed\n",
    "\n",
    "# Create the heatmap with specified z-value limits and colorbar label\n",
    "heatmap = hv.HeatMap(df, kdims=['x', 'y'], vdims='z')\n",
    "heatmap.opts(cmap='seismic', colorbar=True, title=title, xlabel='X (mm)', ylabel='Y (mm)', \n",
    "             width=800, height=600, clim=(z_min, z_max),\n",
    "             colorbar_opts={'title': 'Height (μm)'})  # Add units to the colorbar label\n",
    "\n",
    "# Display the heatmap.  For some reason when I render this, the download doesn't work so it has to be done manually.\n",
    "heatmap\n",
    "\n"
   ]
  },
  {
   "cell_type": "code",
   "execution_count": 6,
   "metadata": {},
   "outputs": [],
   "source": [
    "# this is very time consuming.   \n",
    "v.save(heatmap, title+'.png', fmt='png')\n"
   ]
  },
  {
   "cell_type": "markdown",
   "metadata": {},
   "source": [
    "###  This may take time to render.  Be patient.  The sliders are nice"
   ]
  },
  {
   "cell_type": "code",
   "execution_count": null,
   "metadata": {},
   "outputs": [],
   "source": [
    "def plot_height_by_x(x):\n",
    "    y_values = ds.sel(x=x)['y'].values\n",
    "    z_values = ds.sel(x=x)['z'].values\n",
    "    curve = hv.Curve((y_values, z_values), 'Y (mm)', 'Height (um)')\n",
    "    return curve.opts(title=f'{title}__Height Profile at X = {x}', width=800, height=300)\n",
    "\n",
    "def plot_height_by_y(y):\n",
    "    x_values = ds.sel(y=y)['x'].values\n",
    "    z_values = ds.sel(y=y)['z'].values\n",
    "    curve = hv.Curve((x_values, z_values), 'X (mm)', 'Height (um)')\n",
    "    return curve.opts(title=f'{title}__Height Profile at Y = {y}', width=800, height=300)\n",
    "\n",
    "x_slider = pn.widgets.FloatSlider(start=float(ds['x'].min()), end=float(ds['x'].max()), step=0.1, name='X (mm)')\n",
    "y_slider = pn.widgets.FloatSlider(start=float(ds['y'].min()), end=float(ds['y'].max()), step=0.1, name='Y (mm)')\n",
    "\n",
    "x_stream = hv.streams.Stream.define('X', x=x_slider.value)()\n",
    "y_stream = hv.streams.Stream.define('Y', y=y_slider.value)()\n",
    "\n",
    "x_dmap = hv.DynamicMap(plot_height_by_x, streams=[x_stream])\n",
    "y_dmap = hv.DynamicMap(plot_height_by_y, streams=[y_stream])\n",
    "\n",
    "x_slider.param.watch(lambda event: x_stream.event(x=event.new), 'value')\n",
    "y_slider.param.watch(lambda event: y_stream.event(y=event.new), 'value')\n",
    "\n",
    "layout = pn.Column(\n",
    "    heatmap,\n",
    "    pn.Row(x_slider, y_slider),\n",
    "    x_dmap,\n",
    "    y_dmap\n",
    ")\n",
    "layout.servable()"
   ]
  }
 ],
 "metadata": {
  "kernelspec": {
   "display_name": "cellpy_043",
   "language": "python",
   "name": "python3"
  },
  "language_info": {
   "codemirror_mode": {
    "name": "ipython",
    "version": 3
   },
   "file_extension": ".py",
   "mimetype": "text/x-python",
   "name": "python",
   "nbconvert_exporter": "python",
   "pygments_lexer": "ipython3",
   "version": "3.12.3"
  }
 },
 "nbformat": 4,
 "nbformat_minor": 2
}
